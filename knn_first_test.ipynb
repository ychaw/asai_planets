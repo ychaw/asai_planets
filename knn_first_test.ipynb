{
 "cells": [
  {
   "cell_type": "code",
   "execution_count": 118,
   "id": "d61f74f2",
   "metadata": {},
   "outputs": [],
   "source": [
    "import os\n",
    "import csv\n",
    "\n",
    "import pandas as pd\n",
    "import numpy as np\n",
    "\n",
    "from sklearn.neighbors import KNeighborsRegressor\n",
    "from sklearn.utils import shuffle"
   ]
  },
  {
   "cell_type": "code",
   "execution_count": 119,
   "id": "7002a4d4",
   "metadata": {},
   "outputs": [],
   "source": [
    "data_path = os.path.join(os.path.abspath(os.getcwd()), 'output')"
   ]
  },
  {
   "cell_type": "code",
   "execution_count": 120,
   "metadata": {},
   "outputs": [],
   "source": [
    "data = pd.read_csv(os.path.join(data_path, 'X[-1.2, 1.2]__Y[1.2, -1.2]__M[1e+28, 1e+29, 1e+30]__N[30000].csv'), names=['x', 'y', 'm', 'score'], delimiter=',', quotechar='|', quoting=csv.QUOTE_MINIMAL)"
   ]
  },
  {
   "cell_type": "code",
   "execution_count": 121,
   "metadata": {},
   "outputs": [],
   "source": [
    "data = shuffle(data).reset_index(drop=True)"
   ]
  },
  {
   "cell_type": "code",
   "execution_count": 122,
   "metadata": {},
   "outputs": [],
   "source": [
    "training_percent = 70\n",
    "train = data[:int(len(data)*(training_percent/100))].reset_index(drop=True)\n",
    "test = data[int(len(data)*(training_percent/100)):].reset_index(drop=True)"
   ]
  },
  {
   "cell_type": "code",
   "execution_count": 123,
   "metadata": {},
   "outputs": [],
   "source": [
    "X_train = train[['x', 'y', 'm']]\n",
    "y_train = train['score']\n",
    "\n",
    "X_test = test[['x', 'y', 'm']]\n",
    "y_test = test['score']"
   ]
  },
  {
   "cell_type": "code",
   "execution_count": 124,
   "metadata": {},
   "outputs": [],
   "source": [
    "knn = KNeighborsRegressor(n_neighbors=50, weights='distance', n_jobs=-1)"
   ]
  },
  {
   "cell_type": "code",
   "execution_count": 125,
   "metadata": {},
   "outputs": [
    {
     "output_type": "execute_result",
     "data": {
      "text/plain": [
       "KNeighborsRegressor(n_jobs=-1, n_neighbors=50, weights='distance')"
      ]
     },
     "metadata": {},
     "execution_count": 125
    }
   ],
   "source": [
    "knn.fit(X_train, y_train)"
   ]
  },
  {
   "cell_type": "code",
   "execution_count": 126,
   "metadata": {},
   "outputs": [
    {
     "output_type": "execute_result",
     "data": {
      "text/plain": [
       "     x    y             m  pred_score\n",
       "0 -0.4  0.3  1.000000e+28    0.890660\n",
       "1 -0.4  0.3  1.000000e+29    0.539209\n",
       "2 -0.4  0.3  1.000000e+30    0.111595"
      ],
      "text/html": "<div>\n<style scoped>\n    .dataframe tbody tr th:only-of-type {\n        vertical-align: middle;\n    }\n\n    .dataframe tbody tr th {\n        vertical-align: top;\n    }\n\n    .dataframe thead th {\n        text-align: right;\n    }\n</style>\n<table border=\"1\" class=\"dataframe\">\n  <thead>\n    <tr style=\"text-align: right;\">\n      <th></th>\n      <th>x</th>\n      <th>y</th>\n      <th>m</th>\n      <th>pred_score</th>\n    </tr>\n  </thead>\n  <tbody>\n    <tr>\n      <th>0</th>\n      <td>-0.4</td>\n      <td>0.3</td>\n      <td>1.000000e+28</td>\n      <td>0.890660</td>\n    </tr>\n    <tr>\n      <th>1</th>\n      <td>-0.4</td>\n      <td>0.3</td>\n      <td>1.000000e+29</td>\n      <td>0.539209</td>\n    </tr>\n    <tr>\n      <th>2</th>\n      <td>-0.4</td>\n      <td>0.3</td>\n      <td>1.000000e+30</td>\n      <td>0.111595</td>\n    </tr>\n  </tbody>\n</table>\n</div>"
     },
     "metadata": {},
     "execution_count": 126
    }
   ],
   "source": [
    "pred_X = pd.DataFrame([\n",
    "    [-0.4, 0.3, 1e28], \n",
    "    [-0.4, 0.3, 1e29],\n",
    "    [-0.4, 0.3, 1e30]], columns=['x', 'y', 'm'])\n",
    "\n",
    "pred_score = pd.DataFrame(knn.predict(pred_X), columns=['pred_score'])\n",
    "pred_X.join(pred_score)"
   ]
  },
  {
   "cell_type": "code",
   "execution_count": 127,
   "metadata": {},
   "outputs": [],
   "source": [
    "test_predicted = X_test.join(pd.DataFrame(knn.predict(X_test), columns=['pred_score'])).join(y_test)"
   ]
  },
  {
   "cell_type": "code",
   "execution_count": 128,
   "metadata": {},
   "outputs": [],
   "source": [
    "test_predicted['error'] = test_predicted.apply(lambda row: abs(row['score'] - row['pred_score']), axis=1)"
   ]
  },
  {
   "cell_type": "code",
   "execution_count": 129,
   "metadata": {},
   "outputs": [
    {
     "output_type": "execute_result",
     "data": {
      "text/plain": [
       "0.11459153620084067"
      ]
     },
     "metadata": {},
     "execution_count": 129
    }
   ],
   "source": [
    "test_predicted['error'].mean()"
   ]
  },
  {
   "cell_type": "code",
   "execution_count": null,
   "metadata": {},
   "outputs": [],
   "source": []
  }
 ],
 "metadata": {
  "kernelspec": {
   "name": "python394jvsc74a57bd0ce7d189c3e3940ef99d1164aaf952c863fba239e611c9866f5340be2860b3059",
   "display_name": "Python 3.9.4 64-bit ('.venv': venv)"
  },
  "language_info": {
   "codemirror_mode": {
    "name": "ipython",
    "version": 3
   },
   "file_extension": ".py",
   "mimetype": "text/x-python",
   "name": "python",
   "nbconvert_exporter": "python",
   "pygments_lexer": "ipython3",
   "version": "3.9.4"
  }
 },
 "nbformat": 4,
 "nbformat_minor": 5
}