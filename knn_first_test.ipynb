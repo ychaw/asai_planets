{
 "cells": [
  {
   "cell_type": "code",
   "execution_count": 1,
   "id": "d61f74f2",
   "metadata": {},
   "outputs": [],
   "source": [
    "import os\n",
    "import csv\n",
    "\n",
    "import pandas as pd\n",
    "import numpy as np\n",
    "\n",
    "from sklearn.neighbors import KNeighborsRegressor"
   ]
  },
  {
   "cell_type": "code",
   "execution_count": 2,
   "id": "7002a4d4",
   "metadata": {},
   "outputs": [],
   "source": [
    "data_path = os.path.join(os.path.abspath(os.getcwd()), 'output')"
   ]
  },
  {
   "cell_type": "code",
   "execution_count": 3,
   "metadata": {},
   "outputs": [],
   "source": [
    "data = pd.read_csv(os.path.join(data_path, '-0.4_1.1-0.4_0.3-N19683.csv'), names=['x', 'y', 'm', 'score'], delimiter=',', quotechar='|', quoting=csv.QUOTE_MINIMAL)"
   ]
  },
  {
   "cell_type": "code",
   "execution_count": 4,
   "metadata": {},
   "outputs": [
    {
     "output_type": "execute_result",
     "data": {
      "text/plain": [
       "         x     y             m     score\n",
       "0     -0.4  0.30  7.000000e+23  0.999130\n",
       "1     -0.4  0.31  7.000000e+23  0.999582\n",
       "2     -0.4  0.32  7.000000e+23  0.999943\n",
       "3     -0.4  0.33  7.000000e+23  0.999933\n",
       "4     -0.4  0.34  7.000000e+23  0.999848\n",
       "...    ...   ...           ...       ...\n",
       "19678  0.4  1.06  3.000000e+27  0.384333\n",
       "19679  0.4  1.07  3.000000e+27  0.627229\n",
       "19680  0.4  1.08  3.000000e+27  0.682754\n",
       "19681  0.4  1.09  3.000000e+27  0.685182\n",
       "19682  0.4  1.10  3.000000e+27  0.604901\n",
       "\n",
       "[19683 rows x 4 columns]"
      ],
      "text/html": "<div>\n<style scoped>\n    .dataframe tbody tr th:only-of-type {\n        vertical-align: middle;\n    }\n\n    .dataframe tbody tr th {\n        vertical-align: top;\n    }\n\n    .dataframe thead th {\n        text-align: right;\n    }\n</style>\n<table border=\"1\" class=\"dataframe\">\n  <thead>\n    <tr style=\"text-align: right;\">\n      <th></th>\n      <th>x</th>\n      <th>y</th>\n      <th>m</th>\n      <th>score</th>\n    </tr>\n  </thead>\n  <tbody>\n    <tr>\n      <th>0</th>\n      <td>-0.4</td>\n      <td>0.30</td>\n      <td>7.000000e+23</td>\n      <td>0.999130</td>\n    </tr>\n    <tr>\n      <th>1</th>\n      <td>-0.4</td>\n      <td>0.31</td>\n      <td>7.000000e+23</td>\n      <td>0.999582</td>\n    </tr>\n    <tr>\n      <th>2</th>\n      <td>-0.4</td>\n      <td>0.32</td>\n      <td>7.000000e+23</td>\n      <td>0.999943</td>\n    </tr>\n    <tr>\n      <th>3</th>\n      <td>-0.4</td>\n      <td>0.33</td>\n      <td>7.000000e+23</td>\n      <td>0.999933</td>\n    </tr>\n    <tr>\n      <th>4</th>\n      <td>-0.4</td>\n      <td>0.34</td>\n      <td>7.000000e+23</td>\n      <td>0.999848</td>\n    </tr>\n    <tr>\n      <th>...</th>\n      <td>...</td>\n      <td>...</td>\n      <td>...</td>\n      <td>...</td>\n    </tr>\n    <tr>\n      <th>19678</th>\n      <td>0.4</td>\n      <td>1.06</td>\n      <td>3.000000e+27</td>\n      <td>0.384333</td>\n    </tr>\n    <tr>\n      <th>19679</th>\n      <td>0.4</td>\n      <td>1.07</td>\n      <td>3.000000e+27</td>\n      <td>0.627229</td>\n    </tr>\n    <tr>\n      <th>19680</th>\n      <td>0.4</td>\n      <td>1.08</td>\n      <td>3.000000e+27</td>\n      <td>0.682754</td>\n    </tr>\n    <tr>\n      <th>19681</th>\n      <td>0.4</td>\n      <td>1.09</td>\n      <td>3.000000e+27</td>\n      <td>0.685182</td>\n    </tr>\n    <tr>\n      <th>19682</th>\n      <td>0.4</td>\n      <td>1.10</td>\n      <td>3.000000e+27</td>\n      <td>0.604901</td>\n    </tr>\n  </tbody>\n</table>\n<p>19683 rows × 4 columns</p>\n</div>"
     },
     "metadata": {},
     "execution_count": 4
    }
   ],
   "source": [
    "data"
   ]
  },
  {
   "cell_type": "code",
   "execution_count": 5,
   "metadata": {},
   "outputs": [
    {
     "output_type": "execute_result",
     "data": {
      "text/plain": [
       "                  x             y             m         score\n",
       "count  1.968300e+04  19683.000000  1.968300e+04  19683.000000\n",
       "mean   2.425874e-16      0.700000  1.016900e+27      0.840613\n",
       "std    2.338150e-01      0.233815  1.402444e+27      0.254284\n",
       "min   -4.000000e-01      0.300000  7.000000e+23      0.000000\n",
       "25%   -2.000000e-01      0.500000  7.000000e+23      0.742567\n",
       "50%    0.000000e+00      0.700000  5.000000e+25      0.990873\n",
       "75%    2.000000e-01      0.900000  3.000000e+27      0.999683\n",
       "max    4.000000e-01      1.100000  3.000000e+27      0.999986"
      ],
      "text/html": "<div>\n<style scoped>\n    .dataframe tbody tr th:only-of-type {\n        vertical-align: middle;\n    }\n\n    .dataframe tbody tr th {\n        vertical-align: top;\n    }\n\n    .dataframe thead th {\n        text-align: right;\n    }\n</style>\n<table border=\"1\" class=\"dataframe\">\n  <thead>\n    <tr style=\"text-align: right;\">\n      <th></th>\n      <th>x</th>\n      <th>y</th>\n      <th>m</th>\n      <th>score</th>\n    </tr>\n  </thead>\n  <tbody>\n    <tr>\n      <th>count</th>\n      <td>1.968300e+04</td>\n      <td>19683.000000</td>\n      <td>1.968300e+04</td>\n      <td>19683.000000</td>\n    </tr>\n    <tr>\n      <th>mean</th>\n      <td>2.425874e-16</td>\n      <td>0.700000</td>\n      <td>1.016900e+27</td>\n      <td>0.840613</td>\n    </tr>\n    <tr>\n      <th>std</th>\n      <td>2.338150e-01</td>\n      <td>0.233815</td>\n      <td>1.402444e+27</td>\n      <td>0.254284</td>\n    </tr>\n    <tr>\n      <th>min</th>\n      <td>-4.000000e-01</td>\n      <td>0.300000</td>\n      <td>7.000000e+23</td>\n      <td>0.000000</td>\n    </tr>\n    <tr>\n      <th>25%</th>\n      <td>-2.000000e-01</td>\n      <td>0.500000</td>\n      <td>7.000000e+23</td>\n      <td>0.742567</td>\n    </tr>\n    <tr>\n      <th>50%</th>\n      <td>0.000000e+00</td>\n      <td>0.700000</td>\n      <td>5.000000e+25</td>\n      <td>0.990873</td>\n    </tr>\n    <tr>\n      <th>75%</th>\n      <td>2.000000e-01</td>\n      <td>0.900000</td>\n      <td>3.000000e+27</td>\n      <td>0.999683</td>\n    </tr>\n    <tr>\n      <th>max</th>\n      <td>4.000000e-01</td>\n      <td>1.100000</td>\n      <td>3.000000e+27</td>\n      <td>0.999986</td>\n    </tr>\n  </tbody>\n</table>\n</div>"
     },
     "metadata": {},
     "execution_count": 5
    }
   ],
   "source": [
    "data.describe()"
   ]
  },
  {
   "cell_type": "code",
   "execution_count": 6,
   "metadata": {},
   "outputs": [],
   "source": [
    "neigh = KNeighborsRegressor(n_neighbors=2)"
   ]
  },
  {
   "cell_type": "code",
   "execution_count": 7,
   "metadata": {},
   "outputs": [
    {
     "output_type": "execute_result",
     "data": {
      "text/plain": [
       "KNeighborsRegressor(n_neighbors=2)"
      ]
     },
     "metadata": {},
     "execution_count": 7
    }
   ],
   "source": [
    "X = data[['x', 'y', 'm']]\n",
    "y = data['score']\n",
    "\n",
    "neigh.fit(X, y)"
   ]
  },
  {
   "cell_type": "code",
   "execution_count": 8,
   "metadata": {},
   "outputs": [
    {
     "output_type": "execute_result",
     "data": {
      "text/plain": [
       "       x      y             m\n",
       "0 -0.400  0.300  7.000000e+23\n",
       "1 -0.395  0.305  7.000000e+25"
      ],
      "text/html": "<div>\n<style scoped>\n    .dataframe tbody tr th:only-of-type {\n        vertical-align: middle;\n    }\n\n    .dataframe tbody tr th {\n        vertical-align: top;\n    }\n\n    .dataframe thead th {\n        text-align: right;\n    }\n</style>\n<table border=\"1\" class=\"dataframe\">\n  <thead>\n    <tr style=\"text-align: right;\">\n      <th></th>\n      <th>x</th>\n      <th>y</th>\n      <th>m</th>\n    </tr>\n  </thead>\n  <tbody>\n    <tr>\n      <th>0</th>\n      <td>-0.400</td>\n      <td>0.300</td>\n      <td>7.000000e+23</td>\n    </tr>\n    <tr>\n      <th>1</th>\n      <td>-0.395</td>\n      <td>0.305</td>\n      <td>7.000000e+25</td>\n    </tr>\n  </tbody>\n</table>\n</div>"
     },
     "metadata": {},
     "execution_count": 8
    }
   ],
   "source": [
    "pred_X = pd.DataFrame(columns=['x', 'y', 'm'])\n",
    "pred_X['x'] = [-0.4, -0.395]\n",
    "pred_X['y'] = [0.3, 0.305]\n",
    "pred_X['m'] = [7e23, 7e25]\n",
    "pred_X"
   ]
  },
  {
   "cell_type": "code",
   "execution_count": 9,
   "metadata": {},
   "outputs": [
    {
     "output_type": "execute_result",
     "data": {
      "text/plain": [
       "       x      y             m  pred_score\n",
       "0 -0.400  0.300  7.000000e+23    0.999912\n",
       "1 -0.395  0.305  7.000000e+25    0.997368"
      ],
      "text/html": "<div>\n<style scoped>\n    .dataframe tbody tr th:only-of-type {\n        vertical-align: middle;\n    }\n\n    .dataframe tbody tr th {\n        vertical-align: top;\n    }\n\n    .dataframe thead th {\n        text-align: right;\n    }\n</style>\n<table border=\"1\" class=\"dataframe\">\n  <thead>\n    <tr style=\"text-align: right;\">\n      <th></th>\n      <th>x</th>\n      <th>y</th>\n      <th>m</th>\n      <th>pred_score</th>\n    </tr>\n  </thead>\n  <tbody>\n    <tr>\n      <th>0</th>\n      <td>-0.400</td>\n      <td>0.300</td>\n      <td>7.000000e+23</td>\n      <td>0.999912</td>\n    </tr>\n    <tr>\n      <th>1</th>\n      <td>-0.395</td>\n      <td>0.305</td>\n      <td>7.000000e+25</td>\n      <td>0.997368</td>\n    </tr>\n  </tbody>\n</table>\n</div>"
     },
     "metadata": {},
     "execution_count": 9
    }
   ],
   "source": [
    "pred_score = pd.DataFrame(neigh.predict(pred_X), columns=['pred_score'])\n",
    "pred_X.join(pred_score)"
   ]
  },
  {
   "cell_type": "code",
   "execution_count": null,
   "metadata": {},
   "outputs": [],
   "source": []
  }
 ],
 "metadata": {
  "kernelspec": {
   "name": "python394jvsc74a57bd0ce7d189c3e3940ef99d1164aaf952c863fba239e611c9866f5340be2860b3059",
   "display_name": "Python 3.9.4 64-bit ('.venv': venv)"
  },
  "language_info": {
   "codemirror_mode": {
    "name": "ipython",
    "version": 3
   },
   "file_extension": ".py",
   "mimetype": "text/x-python",
   "name": "python",
   "nbconvert_exporter": "python",
   "pygments_lexer": "ipython3",
   "version": "3.9.4"
  }
 },
 "nbformat": 4,
 "nbformat_minor": 5
}